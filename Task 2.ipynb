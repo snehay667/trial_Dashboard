{
 "cells": [
  {
   "cell_type": "markdown",
   "id": "0fabf3d2",
   "metadata": {},
   "source": [
    "### List Comprehension"
   ]
  },
  {
   "cell_type": "code",
   "execution_count": null,
   "id": "cca7c735",
   "metadata": {
    "scrolled": false
   },
   "outputs": [],
   "source": [
    "x, y, z, n = int(input()), int(input()), int(input()), int(input())\n",
    "\n",
    "result = [[i, j, k] for i in range(x+1) for j in range(y+1) for k in range(z+1) if i+j+k != n]\n",
    "\n",
    "print(result)\n"
   ]
  },
  {
   "cell_type": "markdown",
   "id": "5030b2e6",
   "metadata": {},
   "source": [
    "### Find the Runner-Up Score!"
   ]
  },
  {
   "cell_type": "code",
   "execution_count": null,
   "id": "8b6e5cf2",
   "metadata": {},
   "outputs": [],
   "source": [
    "if __name__ == '__main__':\n",
    "    n = int(input())\n",
    "    arr = list(map(int, input().split()))\n",
    "    \n",
    "    # Remove duplicates from the list and sort it in descending order\n",
    "    arr = list(set(arr))\n",
    "    arr.sort(reverse=True)\n",
    "    \n",
    "    # The second highest score is the second element in the list\n",
    "    runner_up_score = arr[1]\n",
    "    \n",
    "    print(runner_up_score)\n"
   ]
  },
  {
   "cell_type": "markdown",
   "id": "2bcadd08",
   "metadata": {},
   "source": [
    "### Nested Lists"
   ]
  },
  {
   "cell_type": "code",
   "execution_count": 2,
   "id": "1a028fe2",
   "metadata": {},
   "outputs": [
    {
     "name": "stdout",
     "output_type": "stream",
     "text": [
      "2\n",
      "4\n",
      "6\n",
      "7\n",
      "1\n",
      "4\n"
     ]
    }
   ],
   "source": [
    "if __name__ == '__main__':\n",
    "    # create an empty list to store student records\n",
    "    records = []\n",
    "\n",
    "    # get the number of students from user input\n",
    "    n = int(input())\n",
    "\n",
    "    # loop through n students and get their name and grade\n",
    "    for i in range(n):\n",
    "        name = input()\n",
    "        grade = float(input())\n",
    "        records.append([name, grade])\n",
    "\n",
    "    # sort the records by grade in ascending order\n",
    "    records.sort(key=lambda x: x[1])\n",
    "\n",
    "    # get the second lowest grade\n",
    "    second_lowest_grade = sorted(set([x[1] for x in records]))[1]\n",
    "\n",
    "    # loop through the records and find students with the second lowest grade\n",
    "    result = [x[0] for x in records if x[1] == second_lowest_grade]\n",
    "\n",
    "    # sort the names alphabetically and print them\n",
    "    for name in sorted(result):\n",
    "        print(name)\n"
   ]
  },
  {
   "cell_type": "markdown",
   "id": "9ad031d8",
   "metadata": {},
   "source": [
    "### Finding the percentage"
   ]
  },
  {
   "cell_type": "code",
   "execution_count": null,
   "id": "97133be6",
   "metadata": {},
   "outputs": [],
   "source": [
    "n = int(input())\n",
    "student_marks = {}\n",
    "for _ in range(n):\n",
    "    name, *marks = input().split()\n",
    "    student_marks[name] = list(map(float, marks))\n",
    "query_name = input()\n",
    "\n",
    "if query_name in student_marks:\n",
    "    marks = student_marks[query_name]\n",
    "    avg = sum(marks) / len(marks)\n",
    "    print(\"{:.2f}\".format(avg))\n"
   ]
  },
  {
   "cell_type": "markdown",
   "id": "3964f9df",
   "metadata": {},
   "source": [
    "### Lists"
   ]
  },
  {
   "cell_type": "code",
   "execution_count": null,
   "id": "386f4388",
   "metadata": {},
   "outputs": [],
   "source": [
    "if __name__ == '__main__':\n",
    "    N = int(input())\n",
    "    mylist = []\n",
    "    for _ in range(N):\n",
    "        command, *args = input().split()\n",
    "        if command == 'insert':\n",
    "            i, e = map(int, args)\n",
    "            mylist.insert(i, e)\n",
    "        elif command == 'print':\n",
    "            print(mylist)\n",
    "        elif command == 'remove':\n",
    "            e = int(args[0])\n",
    "            mylist.remove(e)\n",
    "        elif command == 'append':\n",
    "            e = int(args[0])\n",
    "            mylist.append(e)\n",
    "        elif command == 'sort':\n",
    "            mylist.sort()\n",
    "        elif command == 'pop':\n",
    "            mylist.pop()\n",
    "        elif command == 'reverse':\n",
    "            mylist.reverse()\n"
   ]
  },
  {
   "cell_type": "markdown",
   "id": "2870853a",
   "metadata": {},
   "source": [
    "### Tuples"
   ]
  },
  {
   "cell_type": "code",
   "execution_count": null,
   "id": "19ac04f2",
   "metadata": {},
   "outputs": [],
   "source": [
    "if __name__ == '__main__':\n",
    "    n = int(input())\n",
    "    \n",
    "    # We simply use tuple function to convert the returned map object of inputs into a tuple\n",
    "    integer_list = tuple(map(int, input().split()))\n",
    "    \n",
    "    # And print the hash\n",
    "    print(hash(integer_list))\n",
    "        \n"
   ]
  },
  {
   "cell_type": "markdown",
   "id": "228e6ea7",
   "metadata": {},
   "source": [
    "### Introduction to Sets"
   ]
  },
  {
   "cell_type": "code",
   "execution_count": null,
   "id": "52461e30",
   "metadata": {},
   "outputs": [],
   "source": [
    "def average(array):\n",
    "    distinct_heights = set(arr)\n",
    "    return sum(distinct_heights) / len(distinct_heights)\n",
    "    \n",
    "    \n",
    "    # your code goes here\n",
    "    \n",
    "\n",
    "if __name__ == '__main__':\n",
    "    n = int(input())\n",
    "    arr = list(map(int, input().split()))\n",
    "    result = average(arr)\n",
    "    print(result)"
   ]
  },
  {
   "cell_type": "markdown",
   "id": "79dc8f87",
   "metadata": {},
   "source": [
    "### No Idea!"
   ]
  },
  {
   "cell_type": "code",
   "execution_count": null,
   "id": "dbef12eb",
   "metadata": {},
   "outputs": [],
   "source": [
    "# Enter your code here. Read input from STDIN. Print output to STDOUT\n",
    "n, m = map(int, input().split())\n",
    "arr = list(map(int, input().split()))\n",
    "a = set(map(int, input().split()))\n",
    "b = set(map(int, input().split()))\n",
    "\n",
    "happiness = 0\n",
    "for i in arr:\n",
    "    if i in a:\n",
    "        happiness += 1\n",
    "    elif i in b:\n",
    "        happiness -= 1\n",
    "\n",
    "print(happiness)\n"
   ]
  },
  {
   "cell_type": "markdown",
   "id": "27617ad9",
   "metadata": {},
   "source": [
    "### Symmetric Difference"
   ]
  },
  {
   "cell_type": "code",
   "execution_count": null,
   "id": "4d90bf24",
   "metadata": {},
   "outputs": [],
   "source": [
    "# Enter your code here. Read input from STDIN. Print output to STDOUT\n",
    "M = int(input())\n",
    "set_M = set(map(int, input().split()))\n",
    "N = int(input())\n",
    "set_N = set(map(int, input().split()))\n",
    "\n",
    "symmetric_diff = set_M.symmetric_difference(set_N)\n",
    "sorted_diff = sorted(list(symmetric_diff))\n",
    "\n",
    "for num in sorted_diff:\n",
    "    print(num)\n"
   ]
  },
  {
   "cell_type": "markdown",
   "id": "e999f1ba",
   "metadata": {},
   "source": [
    "### Set .add()"
   ]
  },
  {
   "cell_type": "code",
   "execution_count": null,
   "id": "fb8fb901",
   "metadata": {},
   "outputs": [],
   "source": [
    "# Enter your code here. Read input from STDIN. Print output to STDOUT\n",
    "n = int(input())\n",
    "stamp_set = set()\n",
    "for i in range(n):\n",
    "    stamp = input().strip()\n",
    "    if stamp:\n",
    "        stamp_set.add(stamp)\n",
    "print(len(stamp_set))\n"
   ]
  },
  {
   "cell_type": "markdown",
   "id": "d263ad22",
   "metadata": {},
   "source": [
    "### Set .discard(), .remove() & .pop()"
   ]
  },
  {
   "cell_type": "code",
   "execution_count": null,
   "id": "c890eabb",
   "metadata": {},
   "outputs": [],
   "source": [
    "n = int(input())\n",
    "s = set(map(int, input().split()))\n",
    "N = int(input())\n",
    "\n",
    "for i in range(N):\n",
    "    cmd = input().split()\n",
    "    if cmd[0] == 'pop':\n",
    "        s.pop()\n",
    "    elif cmd[0] == 'remove':\n",
    "        s.remove(int(cmd[1]))\n",
    "    elif cmd[0] == 'discard':\n",
    "        s.discard(int(cmd[1]))\n",
    "\n",
    "print(sum(s))\n"
   ]
  },
  {
   "cell_type": "markdown",
   "id": "c80ed925",
   "metadata": {},
   "source": [
    "### Set .union() Operation"
   ]
  },
  {
   "cell_type": "code",
   "execution_count": null,
   "id": "d53c1d9c",
   "metadata": {},
   "outputs": [],
   "source": [
    "# Enter your code here. Read input from STDIN. Print output to STDOUT\n",
    "n = int(input())\n",
    "english = set(map(int, input().split()))\n",
    "\n",
    "b = int(input())\n",
    "french = set(map(int, input().split()))\n",
    "\n",
    "total = len(english.union(french))\n",
    "print(total)\n"
   ]
  },
  {
   "cell_type": "markdown",
   "id": "acd3d98f",
   "metadata": {},
   "source": [
    "### Set .intersection() Operation"
   ]
  },
  {
   "cell_type": "code",
   "execution_count": null,
   "id": "699963a6",
   "metadata": {},
   "outputs": [],
   "source": [
    "# Read in the number of students who have subscribed to the English newspaper\n",
    "n = int(input())\n",
    "\n",
    "# Read in the roll numbers of those students and convert them to a set\n",
    "english_set = set(map(int, input().split()))\n",
    "\n",
    "# Read in the number of students who have subscribed to the French newspaper\n",
    "b = int(input())\n",
    "\n",
    "# Read in the roll numbers of those students and convert them to a set\n",
    "french_set = set(map(int, input().split()))\n",
    "\n",
    "# Find the intersection of the two sets\n",
    "intersection = english_set.intersection(french_set)\n",
    "\n",
    "# Print the size of the intersection set\n",
    "print(len(intersection))\n"
   ]
  },
  {
   "cell_type": "markdown",
   "id": "678da3c2",
   "metadata": {},
   "source": [
    "### Set .difference() Operation"
   ]
  },
  {
   "cell_type": "code",
   "execution_count": null,
   "id": "e40caa69",
   "metadata": {},
   "outputs": [],
   "source": [
    "# Enter your code here. Read input from STDIN. Print output to STDOUT# Read input values\n",
    "n_english = int(input())\n",
    "english_set = set(map(int, input().split()))\n",
    "n_french = int(input())\n",
    "french_set = set(map(int, input().split()))\n",
    "\n",
    "# Calculate the number of students who subscribed only to English newspaper\n",
    "only_english = len(english_set - french_set)\n",
    "\n",
    "# Print the result\n",
    "print(only_english)\n"
   ]
  },
  {
   "cell_type": "markdown",
   "id": "d1a11d11",
   "metadata": {},
   "source": [
    "### Set .symmetric_difference() Operation"
   ]
  },
  {
   "cell_type": "code",
   "execution_count": null,
   "id": "f4e53c82",
   "metadata": {},
   "outputs": [],
   "source": [
    "# Read input\n",
    "n_eng = int(input())\n",
    "eng_set = set(map(int, input().split()))\n",
    "n_frn = int(input())\n",
    "frn_set = set(map(int, input().split()))\n",
    "\n",
    "# Find students who have subscribed to both newspapers\n",
    "both_set = eng_set.intersection(frn_set)\n",
    "\n",
    "# Find students who have subscribed to either the English or the French newspaper but not both\n",
    "either_set = eng_set.symmetric_difference(frn_set)\n",
    "\n",
    "# Print the total number of students who have subscribed to either the English or the French newspaper but not both\n",
    "print(len(either_set))\n"
   ]
  },
  {
   "cell_type": "markdown",
   "id": "52fc7d3a",
   "metadata": {},
   "source": [
    "### Set Mutations"
   ]
  },
  {
   "cell_type": "code",
   "execution_count": null,
   "id": "a5cbe250",
   "metadata": {},
   "outputs": [],
   "source": [
    "# Read input\n",
    "n_a = int(input())\n",
    "a_set = set(map(int, input().split()))\n",
    "n = int(input())\n",
    "\n",
    "# Perform mutation operations\n",
    "for i in range(n):\n",
    "    op, n_b = input().split()\n",
    "    b_set = set(map(int, input().split()))\n",
    "    if op == 'update':\n",
    "        a_set.update(b_set)\n",
    "    elif op == 'intersection_update':\n",
    "        a_set.intersection_update(b_set)\n",
    "    elif op == 'difference_update':\n",
    "        a_set.difference_update(b_set)\n",
    "    elif op == 'symmetric_difference_update':\n",
    "        a_set.symmetric_difference_update(b_set)\n",
    "\n",
    "# Print the sum of elements in set A\n",
    "print(sum(a_set))\n"
   ]
  },
  {
   "cell_type": "markdown",
   "id": "671d7042",
   "metadata": {},
   "source": [
    "### The Captain's Room"
   ]
  },
  {
   "cell_type": "code",
   "execution_count": null,
   "id": "fdae6a57",
   "metadata": {},
   "outputs": [],
   "source": [
    "# Read input\n",
    "k = int(input())\n",
    "room_list = list(map(int, input().split()))\n",
    "\n",
    "# Count the number of occurrences of each room number\n",
    "room_count = {}\n",
    "for room in room_list:\n",
    "    if room in room_count:\n",
    "        room_count[room] += 1\n",
    "    else:\n",
    "        room_count[room] = 1\n",
    "\n",
    "# Find the Captain's room number\n",
    "for room, count in room_count.items():\n",
    "    if count == 1:\n",
    "        captain_room = room\n",
    "        break\n",
    "\n",
    "# Print the Captain's room number\n",
    "print(captain_room)\n"
   ]
  },
  {
   "cell_type": "markdown",
   "id": "09b8540d",
   "metadata": {},
   "source": [
    "### Check Subset"
   ]
  },
  {
   "cell_type": "code",
   "execution_count": null,
   "id": "8daabaa1",
   "metadata": {},
   "outputs": [],
   "source": [
    "# Read input\n",
    "T = int(input())\n",
    "for _ in range(T):\n",
    "    # Read set A\n",
    "    size_A = int(input())\n",
    "    A = set(map(int, input().split()))\n",
    "    \n",
    "    # Read set B\n",
    "    size_B = int(input())\n",
    "    B = set(map(int, input().split()))\n",
    "\n",
    "    # Check if A is a subset of B\n",
    "    if A.issubset(B):\n",
    "        print(True)\n",
    "    else:\n",
    "        print(False)\n"
   ]
  },
  {
   "cell_type": "markdown",
   "id": "81caccf0",
   "metadata": {},
   "source": [
    "### Check Strict Superset"
   ]
  },
  {
   "cell_type": "code",
   "execution_count": null,
   "id": "ea5e6a98",
   "metadata": {},
   "outputs": [],
   "source": [
    "A = set(map(int, input().split()))\n",
    "n = int(input())\n",
    "\n",
    "# Check strict superset for each set\n",
    "is_strict_superset = True\n",
    "for _ in range(n):\n",
    "    other_set = set(map(int, input().split()))\n",
    "    if not A.issuperset(other_set) or A == other_set:\n",
    "        is_strict_superset = False\n",
    "        break\n",
    "\n",
    "# Output result\n",
    "print(is_strict_superset)"
   ]
  }
 ],
 "metadata": {
  "kernelspec": {
   "display_name": "Python 3 (ipykernel)",
   "language": "python",
   "name": "python3"
  },
  "language_info": {
   "codemirror_mode": {
    "name": "ipython",
    "version": 3
   },
   "file_extension": ".py",
   "mimetype": "text/x-python",
   "name": "python",
   "nbconvert_exporter": "python",
   "pygments_lexer": "ipython3",
   "version": "3.9.12"
  }
 },
 "nbformat": 4,
 "nbformat_minor": 5
}
